{
  "nbformat": 4,
  "nbformat_minor": 0,
  "metadata": {
    "colab": {
      "provenance": []
    },
    "kernelspec": {
      "name": "python3",
      "display_name": "Python 3"
    },
    "language_info": {
      "name": "python"
    }
  },
  "cells": [
    {
      "cell_type": "markdown",
      "source": [
        "<h1>Sentiment Analysis on Feedback Data</h1>"
      ],
      "metadata": {
        "id": "1IV41exJ2yfP"
      }
    },
    {
      "cell_type": "code",
      "execution_count": null,
      "metadata": {
        "id": "WIe3wsTxkPho"
      },
      "outputs": [],
      "source": [
        "import pandas as pd\n",
        "import numpy as np"
      ]
    },
    {
      "cell_type": "markdown",
      "source": [
        "<h2>Loading the data set</h2>"
      ],
      "metadata": {
        "id": "lQN1-giEmMz-"
      }
    },
    {
      "cell_type": "code",
      "source": [
        "df = pd.read_csv(\"/content/student_feedback_dataset.csv\")"
      ],
      "metadata": {
        "id": "wSAVX8zhmBXW"
      },
      "execution_count": null,
      "outputs": []
    },
    {
      "cell_type": "code",
      "source": [
        "df.head()"
      ],
      "metadata": {
        "colab": {
          "base_uri": "https://localhost:8080/",
          "height": 206
        },
        "id": "177mwENKm3YS",
        "outputId": "422417d4-5967-410e-b159-53c92bee40ff"
      },
      "execution_count": null,
      "outputs": [
        {
          "output_type": "execute_result",
          "data": {
            "text/plain": [
              "  student_id                          student_review  rating_out_of_10\n",
              "0       S001             It's neither bad nor great.                 5\n",
              "1       S002     The teachers are highly supportive.                 9\n",
              "2       S003      I really enjoy the teaching style.                10\n",
              "3       S004  The teacher does not explain properly.                 3\n",
              "4       S005      They should include extra classes.                 4"
            ],
            "text/html": [
              "\n",
              "  <div id=\"df-221424c4-45e4-42e7-b8d0-e46149e5b59e\" class=\"colab-df-container\">\n",
              "    <div>\n",
              "<style scoped>\n",
              "    .dataframe tbody tr th:only-of-type {\n",
              "        vertical-align: middle;\n",
              "    }\n",
              "\n",
              "    .dataframe tbody tr th {\n",
              "        vertical-align: top;\n",
              "    }\n",
              "\n",
              "    .dataframe thead th {\n",
              "        text-align: right;\n",
              "    }\n",
              "</style>\n",
              "<table border=\"1\" class=\"dataframe\">\n",
              "  <thead>\n",
              "    <tr style=\"text-align: right;\">\n",
              "      <th></th>\n",
              "      <th>student_id</th>\n",
              "      <th>student_review</th>\n",
              "      <th>rating_out_of_10</th>\n",
              "    </tr>\n",
              "  </thead>\n",
              "  <tbody>\n",
              "    <tr>\n",
              "      <th>0</th>\n",
              "      <td>S001</td>\n",
              "      <td>It's neither bad nor great.</td>\n",
              "      <td>5</td>\n",
              "    </tr>\n",
              "    <tr>\n",
              "      <th>1</th>\n",
              "      <td>S002</td>\n",
              "      <td>The teachers are highly supportive.</td>\n",
              "      <td>9</td>\n",
              "    </tr>\n",
              "    <tr>\n",
              "      <th>2</th>\n",
              "      <td>S003</td>\n",
              "      <td>I really enjoy the teaching style.</td>\n",
              "      <td>10</td>\n",
              "    </tr>\n",
              "    <tr>\n",
              "      <th>3</th>\n",
              "      <td>S004</td>\n",
              "      <td>The teacher does not explain properly.</td>\n",
              "      <td>3</td>\n",
              "    </tr>\n",
              "    <tr>\n",
              "      <th>4</th>\n",
              "      <td>S005</td>\n",
              "      <td>They should include extra classes.</td>\n",
              "      <td>4</td>\n",
              "    </tr>\n",
              "  </tbody>\n",
              "</table>\n",
              "</div>\n",
              "    <div class=\"colab-df-buttons\">\n",
              "\n",
              "  <div class=\"colab-df-container\">\n",
              "    <button class=\"colab-df-convert\" onclick=\"convertToInteractive('df-221424c4-45e4-42e7-b8d0-e46149e5b59e')\"\n",
              "            title=\"Convert this dataframe to an interactive table.\"\n",
              "            style=\"display:none;\">\n",
              "\n",
              "  <svg xmlns=\"http://www.w3.org/2000/svg\" height=\"24px\" viewBox=\"0 -960 960 960\">\n",
              "    <path d=\"M120-120v-720h720v720H120Zm60-500h600v-160H180v160Zm220 220h160v-160H400v160Zm0 220h160v-160H400v160ZM180-400h160v-160H180v160Zm440 0h160v-160H620v160ZM180-180h160v-160H180v160Zm440 0h160v-160H620v160Z\"/>\n",
              "  </svg>\n",
              "    </button>\n",
              "\n",
              "  <style>\n",
              "    .colab-df-container {\n",
              "      display:flex;\n",
              "      gap: 12px;\n",
              "    }\n",
              "\n",
              "    .colab-df-convert {\n",
              "      background-color: #E8F0FE;\n",
              "      border: none;\n",
              "      border-radius: 50%;\n",
              "      cursor: pointer;\n",
              "      display: none;\n",
              "      fill: #1967D2;\n",
              "      height: 32px;\n",
              "      padding: 0 0 0 0;\n",
              "      width: 32px;\n",
              "    }\n",
              "\n",
              "    .colab-df-convert:hover {\n",
              "      background-color: #E2EBFA;\n",
              "      box-shadow: 0px 1px 2px rgba(60, 64, 67, 0.3), 0px 1px 3px 1px rgba(60, 64, 67, 0.15);\n",
              "      fill: #174EA6;\n",
              "    }\n",
              "\n",
              "    .colab-df-buttons div {\n",
              "      margin-bottom: 4px;\n",
              "    }\n",
              "\n",
              "    [theme=dark] .colab-df-convert {\n",
              "      background-color: #3B4455;\n",
              "      fill: #D2E3FC;\n",
              "    }\n",
              "\n",
              "    [theme=dark] .colab-df-convert:hover {\n",
              "      background-color: #434B5C;\n",
              "      box-shadow: 0px 1px 3px 1px rgba(0, 0, 0, 0.15);\n",
              "      filter: drop-shadow(0px 1px 2px rgba(0, 0, 0, 0.3));\n",
              "      fill: #FFFFFF;\n",
              "    }\n",
              "  </style>\n",
              "\n",
              "    <script>\n",
              "      const buttonEl =\n",
              "        document.querySelector('#df-221424c4-45e4-42e7-b8d0-e46149e5b59e button.colab-df-convert');\n",
              "      buttonEl.style.display =\n",
              "        google.colab.kernel.accessAllowed ? 'block' : 'none';\n",
              "\n",
              "      async function convertToInteractive(key) {\n",
              "        const element = document.querySelector('#df-221424c4-45e4-42e7-b8d0-e46149e5b59e');\n",
              "        const dataTable =\n",
              "          await google.colab.kernel.invokeFunction('convertToInteractive',\n",
              "                                                    [key], {});\n",
              "        if (!dataTable) return;\n",
              "\n",
              "        const docLinkHtml = 'Like what you see? Visit the ' +\n",
              "          '<a target=\"_blank\" href=https://colab.research.google.com/notebooks/data_table.ipynb>data table notebook</a>'\n",
              "          + ' to learn more about interactive tables.';\n",
              "        element.innerHTML = '';\n",
              "        dataTable['output_type'] = 'display_data';\n",
              "        await google.colab.output.renderOutput(dataTable, element);\n",
              "        const docLink = document.createElement('div');\n",
              "        docLink.innerHTML = docLinkHtml;\n",
              "        element.appendChild(docLink);\n",
              "      }\n",
              "    </script>\n",
              "  </div>\n",
              "\n",
              "\n",
              "    <div id=\"df-a265b726-72a9-4928-996c-470123547e8e\">\n",
              "      <button class=\"colab-df-quickchart\" onclick=\"quickchart('df-a265b726-72a9-4928-996c-470123547e8e')\"\n",
              "                title=\"Suggest charts\"\n",
              "                style=\"display:none;\">\n",
              "\n",
              "<svg xmlns=\"http://www.w3.org/2000/svg\" height=\"24px\"viewBox=\"0 0 24 24\"\n",
              "     width=\"24px\">\n",
              "    <g>\n",
              "        <path d=\"M19 3H5c-1.1 0-2 .9-2 2v14c0 1.1.9 2 2 2h14c1.1 0 2-.9 2-2V5c0-1.1-.9-2-2-2zM9 17H7v-7h2v7zm4 0h-2V7h2v10zm4 0h-2v-4h2v4z\"/>\n",
              "    </g>\n",
              "</svg>\n",
              "      </button>\n",
              "\n",
              "<style>\n",
              "  .colab-df-quickchart {\n",
              "      --bg-color: #E8F0FE;\n",
              "      --fill-color: #1967D2;\n",
              "      --hover-bg-color: #E2EBFA;\n",
              "      --hover-fill-color: #174EA6;\n",
              "      --disabled-fill-color: #AAA;\n",
              "      --disabled-bg-color: #DDD;\n",
              "  }\n",
              "\n",
              "  [theme=dark] .colab-df-quickchart {\n",
              "      --bg-color: #3B4455;\n",
              "      --fill-color: #D2E3FC;\n",
              "      --hover-bg-color: #434B5C;\n",
              "      --hover-fill-color: #FFFFFF;\n",
              "      --disabled-bg-color: #3B4455;\n",
              "      --disabled-fill-color: #666;\n",
              "  }\n",
              "\n",
              "  .colab-df-quickchart {\n",
              "    background-color: var(--bg-color);\n",
              "    border: none;\n",
              "    border-radius: 50%;\n",
              "    cursor: pointer;\n",
              "    display: none;\n",
              "    fill: var(--fill-color);\n",
              "    height: 32px;\n",
              "    padding: 0;\n",
              "    width: 32px;\n",
              "  }\n",
              "\n",
              "  .colab-df-quickchart:hover {\n",
              "    background-color: var(--hover-bg-color);\n",
              "    box-shadow: 0 1px 2px rgba(60, 64, 67, 0.3), 0 1px 3px 1px rgba(60, 64, 67, 0.15);\n",
              "    fill: var(--button-hover-fill-color);\n",
              "  }\n",
              "\n",
              "  .colab-df-quickchart-complete:disabled,\n",
              "  .colab-df-quickchart-complete:disabled:hover {\n",
              "    background-color: var(--disabled-bg-color);\n",
              "    fill: var(--disabled-fill-color);\n",
              "    box-shadow: none;\n",
              "  }\n",
              "\n",
              "  .colab-df-spinner {\n",
              "    border: 2px solid var(--fill-color);\n",
              "    border-color: transparent;\n",
              "    border-bottom-color: var(--fill-color);\n",
              "    animation:\n",
              "      spin 1s steps(1) infinite;\n",
              "  }\n",
              "\n",
              "  @keyframes spin {\n",
              "    0% {\n",
              "      border-color: transparent;\n",
              "      border-bottom-color: var(--fill-color);\n",
              "      border-left-color: var(--fill-color);\n",
              "    }\n",
              "    20% {\n",
              "      border-color: transparent;\n",
              "      border-left-color: var(--fill-color);\n",
              "      border-top-color: var(--fill-color);\n",
              "    }\n",
              "    30% {\n",
              "      border-color: transparent;\n",
              "      border-left-color: var(--fill-color);\n",
              "      border-top-color: var(--fill-color);\n",
              "      border-right-color: var(--fill-color);\n",
              "    }\n",
              "    40% {\n",
              "      border-color: transparent;\n",
              "      border-right-color: var(--fill-color);\n",
              "      border-top-color: var(--fill-color);\n",
              "    }\n",
              "    60% {\n",
              "      border-color: transparent;\n",
              "      border-right-color: var(--fill-color);\n",
              "    }\n",
              "    80% {\n",
              "      border-color: transparent;\n",
              "      border-right-color: var(--fill-color);\n",
              "      border-bottom-color: var(--fill-color);\n",
              "    }\n",
              "    90% {\n",
              "      border-color: transparent;\n",
              "      border-bottom-color: var(--fill-color);\n",
              "    }\n",
              "  }\n",
              "</style>\n",
              "\n",
              "      <script>\n",
              "        async function quickchart(key) {\n",
              "          const quickchartButtonEl =\n",
              "            document.querySelector('#' + key + ' button');\n",
              "          quickchartButtonEl.disabled = true;  // To prevent multiple clicks.\n",
              "          quickchartButtonEl.classList.add('colab-df-spinner');\n",
              "          try {\n",
              "            const charts = await google.colab.kernel.invokeFunction(\n",
              "                'suggestCharts', [key], {});\n",
              "          } catch (error) {\n",
              "            console.error('Error during call to suggestCharts:', error);\n",
              "          }\n",
              "          quickchartButtonEl.classList.remove('colab-df-spinner');\n",
              "          quickchartButtonEl.classList.add('colab-df-quickchart-complete');\n",
              "        }\n",
              "        (() => {\n",
              "          let quickchartButtonEl =\n",
              "            document.querySelector('#df-a265b726-72a9-4928-996c-470123547e8e button');\n",
              "          quickchartButtonEl.style.display =\n",
              "            google.colab.kernel.accessAllowed ? 'block' : 'none';\n",
              "        })();\n",
              "      </script>\n",
              "    </div>\n",
              "\n",
              "    </div>\n",
              "  </div>\n"
            ],
            "application/vnd.google.colaboratory.intrinsic+json": {
              "type": "dataframe",
              "variable_name": "df",
              "summary": "{\n  \"name\": \"df\",\n  \"rows\": 200,\n  \"fields\": [\n    {\n      \"column\": \"student_id\",\n      \"properties\": {\n        \"dtype\": \"string\",\n        \"num_unique_values\": 200,\n        \"samples\": [\n          \"S096\",\n          \"S016\",\n          \"S031\"\n        ],\n        \"semantic_type\": \"\",\n        \"description\": \"\"\n      }\n    },\n    {\n      \"column\": \"student_review\",\n      \"properties\": {\n        \"dtype\": \"category\",\n        \"num_unique_values\": 15,\n        \"samples\": [\n          \"The environment is decent.\",\n          \"Everything is going smoothly in the classes.\",\n          \"It's neither bad nor great.\"\n        ],\n        \"semantic_type\": \"\",\n        \"description\": \"\"\n      }\n    },\n    {\n      \"column\": \"rating_out_of_10\",\n      \"properties\": {\n        \"dtype\": \"number\",\n        \"std\": 3,\n        \"min\": 1,\n        \"max\": 10,\n        \"num_unique_values\": 10,\n        \"samples\": [\n          6,\n          9,\n          8\n        ],\n        \"semantic_type\": \"\",\n        \"description\": \"\"\n      }\n    }\n  ]\n}"
            }
          },
          "metadata": {},
          "execution_count": 10
        }
      ]
    },
    {
      "cell_type": "code",
      "source": [
        "df.size"
      ],
      "metadata": {
        "colab": {
          "base_uri": "https://localhost:8080/"
        },
        "id": "CcCPFBtopZ-v",
        "outputId": "90882bbd-cb1f-4ac2-e003-7114eceba35a"
      },
      "execution_count": null,
      "outputs": [
        {
          "output_type": "execute_result",
          "data": {
            "text/plain": [
              "600"
            ]
          },
          "metadata": {},
          "execution_count": 14
        }
      ]
    },
    {
      "cell_type": "markdown",
      "source": [
        "<h2>Using TextBlob to know whether a review is positive or negative</h2>"
      ],
      "metadata": {
        "id": "M2c1KUFQ3TH0"
      }
    },
    {
      "cell_type": "code",
      "source": [
        "from textblob import TextBlob\n",
        "\n",
        "def analyze_sentiment(text):\n",
        "    blob = TextBlob(text)\n",
        "    polarity = blob.sentiment.polarity  # -1 (negative) to 1 (positive)\n",
        "\n",
        "    if polarity > 0:\n",
        "        return \"Positive\"\n",
        "    elif polarity < 0:\n",
        "        return \"Negative\"\n",
        "    else:\n",
        "        return \"Neutral\""
      ],
      "metadata": {
        "id": "_VBFcqwbmT4H"
      },
      "execution_count": null,
      "outputs": []
    },
    {
      "cell_type": "markdown",
      "source": [
        "<h1>Increase in number of classes can be productive</h1>\n",
        "<h3> This is a suggestion but our library count it as a positive or neutral review while suggestion should be negative so we will check on few key words to know whether it is a suggestion or not<h3>"
      ],
      "metadata": {
        "id": "24T8jCNU3ih3"
      }
    },
    {
      "cell_type": "code",
      "source": [
        "def enhanced_sentiment(text):\n",
        "    base_sentiment = analyze_sentiment(text)\n",
        "\n",
        "    # Keywords that imply improvement or dissatisfaction\n",
        "    negative_keywords = ['should', 'need', 'must', 'lack', 'missing', 'improve', 'better', 'extra', 'more', 'not enough' , 'should' , 'does' , 'understand']\n",
        "\n",
        "    if any(word in text.lower() for word in negative_keywords):\n",
        "        return \"Negative\"\n",
        "\n",
        "    return base_sentiment"
      ],
      "metadata": {
        "id": "bWgaNJCykvUQ"
      },
      "execution_count": null,
      "outputs": []
    },
    {
      "cell_type": "code",
      "source": [
        "    # defining the list that will store the reviews\n",
        "    neg = []\n",
        "    pos = []\n",
        "    neu = []"
      ],
      "metadata": {
        "id": "mc_ChZP8sLzU"
      },
      "execution_count": null,
      "outputs": []
    },
    {
      "cell_type": "markdown",
      "source": [
        "<h2> The function counts as well as add reviews to there seprate list deefined above</h2>"
      ],
      "metadata": {
        "id": "D7D_qbEd4WLs"
      }
    },
    {
      "cell_type": "code",
      "source": [
        "def count():\n",
        "    for i in df[\"student_review\"]:\n",
        "        result = enhanced_sentiment(i)  # Use the current review\n",
        "\n",
        "        if result == \"Positive\":\n",
        "            pos.append(i)\n",
        "        elif result == \"Negative\":\n",
        "            neg.append(i)\n",
        "        else:\n",
        "            neu.append(i)\n",
        "\n",
        "    print(\"The number of positive reviews are: \" + str(len(pos)))\n",
        "    print(\"The number of negative reviews are: \" + str(len(neg)))\n",
        "    print(\"The number of neutral reviews are:  \" + str(len(neu)))\n"
      ],
      "metadata": {
        "id": "Bpu5VEoxmg1Z"
      },
      "execution_count": null,
      "outputs": []
    },
    {
      "cell_type": "code",
      "source": [
        "count()"
      ],
      "metadata": {
        "colab": {
          "base_uri": "https://localhost:8080/"
        },
        "id": "Au6A8rtepzIT",
        "outputId": "121ee10d-0512-46f9-9ed3-fe305d175181"
      },
      "execution_count": null,
      "outputs": [
        {
          "output_type": "stream",
          "name": "stdout",
          "text": [
            "The number of positive reviews are: 134\n",
            "The number of negative reviews are: 66\n",
            "The number of neutral reviews are:  0\n"
          ]
        }
      ]
    },
    {
      "cell_type": "code",
      "source": [
        "# It prints all the positive review\n",
        "def positiveReview():\n",
        "  print(\"There are \" + str(len(pos)) + \" positive reviews\")\n",
        "  for i in pos:\n",
        "    print(i)\n"
      ],
      "metadata": {
        "id": "zUh0lXcyr0oK"
      },
      "execution_count": null,
      "outputs": []
    },
    {
      "cell_type": "code",
      "source": [
        "# It prints all the negative review\n",
        "def negativeReview():\n",
        "  print(\"There are \" + str(len(neg)) + \" negative reviews\")\n",
        "  for i in neg:\n",
        "    print(i)\n"
      ],
      "metadata": {
        "id": "O16KFPUQsf4h"
      },
      "execution_count": null,
      "outputs": []
    },
    {
      "cell_type": "code",
      "source": [
        "# It prints all the neutral review\n",
        "def neutralReview():\n",
        "    print(\"There are \" + str(len(neu)) + \" neutral reviews\")\n",
        "    for i in neu:\n",
        "        print(i)\n"
      ],
      "metadata": {
        "id": "wsAxy3KNsgRE"
      },
      "execution_count": null,
      "outputs": []
    },
    {
      "cell_type": "code",
      "source": [
        "neutralReview()"
      ],
      "metadata": {
        "colab": {
          "base_uri": "https://localhost:8080/"
        },
        "id": "3CvRgMJSqO0w",
        "outputId": "b4b92194-09b1-4598-b330-62d032d9bb31"
      },
      "execution_count": null,
      "outputs": [
        {
          "output_type": "stream",
          "name": "stdout",
          "text": [
            "There are 0 neutral reviews\n"
          ]
        }
      ]
    },
    {
      "cell_type": "code",
      "source": [
        "negativeReview()"
      ],
      "metadata": {
        "colab": {
          "base_uri": "https://localhost:8080/"
        },
        "id": "9Nc7w-Mrul5B",
        "outputId": "ffb66e8d-ba44-403e-a8cd-8df8ddf42207"
      },
      "execution_count": null,
      "outputs": [
        {
          "output_type": "stream",
          "name": "stdout",
          "text": [
            "There are 66 negative reviews\n",
            "The teacher does not explain properly.\n",
            "They should include extra classes.\n",
            "The teacher does not explain properly.\n",
            "The teacher does not explain properly.\n",
            "The teacher does not explain properly.\n",
            "The teacher does not explain properly.\n",
            "The teacher does not explain properly.\n",
            "Average experience so far.\n",
            "Class timing should be improved.\n",
            "The teacher does not explain properly.\n",
            "The teacher does not explain properly.\n",
            "I don't understand most of the topics.\n",
            "The teacher does not explain properly.\n",
            "I don't understand most of the topics.\n",
            "They should include extra classes.\n",
            "I don't understand most of the topics.\n",
            "They should include extra classes.\n",
            "They should include extra classes.\n",
            "Average experience so far.\n",
            "They should include extra classes.\n",
            "The teacher does not explain properly.\n",
            "Class timing should be improved.\n",
            "The teacher does not explain properly.\n",
            "The teacher does not explain properly.\n",
            "I don't understand most of the topics.\n",
            "The teacher does not explain properly.\n",
            "I don't understand most of the topics.\n",
            "The teacher does not explain properly.\n",
            "Class timing should be improved.\n",
            "I don't understand most of the topics.\n",
            "I don't understand most of the topics.\n",
            "They should include extra classes.\n",
            "They should include extra classes.\n",
            "I don't understand most of the topics.\n",
            "They should include extra classes.\n",
            "They should include extra classes.\n",
            "Average experience so far.\n",
            "They should include extra classes.\n",
            "Class timing should be improved.\n",
            "Class timing should be improved.\n",
            "Class timing should be improved.\n",
            "Average experience so far.\n",
            "They should include extra classes.\n",
            "Class timing should be improved.\n",
            "I don't understand most of the topics.\n",
            "I don't understand most of the topics.\n",
            "I don't understand most of the topics.\n",
            "I don't understand most of the topics.\n",
            "They should include extra classes.\n",
            "They should include extra classes.\n",
            "I don't understand most of the topics.\n",
            "They should include extra classes.\n",
            "Class timing should be improved.\n",
            "Class timing should be improved.\n",
            "I don't understand most of the topics.\n",
            "They should include extra classes.\n",
            "They should include extra classes.\n",
            "They should include extra classes.\n",
            "Average experience so far.\n",
            "Class timing should be improved.\n",
            "Class timing should be improved.\n",
            "I don't understand most of the topics.\n",
            "I don't understand most of the topics.\n",
            "I don't understand most of the topics.\n",
            "They should include extra classes.\n",
            "The teacher does not explain properly.\n"
          ]
        }
      ]
    },
    {
      "cell_type": "code",
      "source": [
        "positiveReview()"
      ],
      "metadata": {
        "colab": {
          "base_uri": "https://localhost:8080/"
        },
        "id": "UDqypGQUqd1i",
        "outputId": "c9ee57b5-c777-4d24-ba70-b3f60a06ed63"
      },
      "execution_count": null,
      "outputs": [
        {
          "output_type": "stream",
          "name": "stdout",
          "text": [
            "There are 134 positive reviews\n",
            "It's neither bad nor great.\n",
            "The teachers are highly supportive.\n",
            "I really enjoy the teaching style.\n",
            "I really enjoy the teaching style.\n",
            "The course material is very useful.\n",
            "The lecture pace is too fast.\n",
            "The lecture pace is too fast.\n",
            "The environment is decent.\n",
            "The environment is decent.\n",
            "The course material is very useful.\n",
            "Everything is going smoothly in the classes.\n",
            "Everything is going smoothly in the classes.\n",
            "The lecture pace is too fast.\n",
            "I really enjoy the teaching style.\n",
            "The classes are very helpful and well-structured.\n",
            "The course material is very useful.\n",
            "Everything is going smoothly in the classes.\n",
            "The teachers are highly supportive.\n",
            "The teachers are highly supportive.\n",
            "The course is okay.\n",
            "The lecture pace is too fast.\n",
            "The course material is very useful.\n",
            "The teachers are highly supportive.\n",
            "The lecture pace is too fast.\n",
            "The environment is decent.\n",
            "The classes are very helpful and well-structured.\n",
            "The course material is very useful.\n",
            "The course material is very useful.\n",
            "Nothing special to mention.\n",
            "I really enjoy the teaching style.\n",
            "Nothing special to mention.\n",
            "The lecture pace is too fast.\n",
            "The course material is very useful.\n",
            "The course is okay.\n",
            "The course material is very useful.\n",
            "The environment is decent.\n",
            "The course is okay.\n",
            "I really enjoy the teaching style.\n",
            "It's neither bad nor great.\n",
            "The teachers are highly supportive.\n",
            "The course material is very useful.\n",
            "The lecture pace is too fast.\n",
            "The classes are very helpful and well-structured.\n",
            "I really enjoy the teaching style.\n",
            "The lecture pace is too fast.\n",
            "The lecture pace is too fast.\n",
            "I really enjoy the teaching style.\n",
            "The lecture pace is too fast.\n",
            "The teachers are highly supportive.\n",
            "The classes are very helpful and well-structured.\n",
            "The course material is very useful.\n",
            "The lecture pace is too fast.\n",
            "The classes are very helpful and well-structured.\n",
            "The lecture pace is too fast.\n",
            "The teachers are highly supportive.\n",
            "The classes are very helpful and well-structured.\n",
            "I really enjoy the teaching style.\n",
            "Everything is going smoothly in the classes.\n",
            "The teachers are highly supportive.\n",
            "The course material is very useful.\n",
            "Everything is going smoothly in the classes.\n",
            "The classes are very helpful and well-structured.\n",
            "The lecture pace is too fast.\n",
            "The course is okay.\n",
            "Everything is going smoothly in the classes.\n",
            "The classes are very helpful and well-structured.\n",
            "The classes are very helpful and well-structured.\n",
            "The classes are very helpful and well-structured.\n",
            "The environment is decent.\n",
            "The lecture pace is too fast.\n",
            "It's neither bad nor great.\n",
            "The environment is decent.\n",
            "Everything is going smoothly in the classes.\n",
            "Everything is going smoothly in the classes.\n",
            "Nothing special to mention.\n",
            "The teachers are highly supportive.\n",
            "The environment is decent.\n",
            "Everything is going smoothly in the classes.\n",
            "The lecture pace is too fast.\n",
            "It's neither bad nor great.\n",
            "The environment is decent.\n",
            "The course is okay.\n",
            "The teachers are highly supportive.\n",
            "The course material is very useful.\n",
            "I really enjoy the teaching style.\n",
            "The lecture pace is too fast.\n",
            "The lecture pace is too fast.\n",
            "Everything is going smoothly in the classes.\n",
            "It's neither bad nor great.\n",
            "Everything is going smoothly in the classes.\n",
            "The course is okay.\n",
            "The teachers are highly supportive.\n",
            "The classes are very helpful and well-structured.\n",
            "It's neither bad nor great.\n",
            "I really enjoy the teaching style.\n",
            "The environment is decent.\n",
            "The lecture pace is too fast.\n",
            "The environment is decent.\n",
            "I really enjoy the teaching style.\n",
            "The teachers are highly supportive.\n",
            "Everything is going smoothly in the classes.\n",
            "The teachers are highly supportive.\n",
            "The teachers are highly supportive.\n",
            "The lecture pace is too fast.\n",
            "The classes are very helpful and well-structured.\n",
            "Everything is going smoothly in the classes.\n",
            "The classes are very helpful and well-structured.\n",
            "The lecture pace is too fast.\n",
            "Nothing special to mention.\n",
            "The teachers are highly supportive.\n",
            "The environment is decent.\n",
            "The lecture pace is too fast.\n",
            "The teachers are highly supportive.\n",
            "It's neither bad nor great.\n",
            "Everything is going smoothly in the classes.\n",
            "The lecture pace is too fast.\n",
            "The environment is decent.\n",
            "The teachers are highly supportive.\n",
            "Everything is going smoothly in the classes.\n",
            "The lecture pace is too fast.\n",
            "I really enjoy the teaching style.\n",
            "The teachers are highly supportive.\n",
            "The lecture pace is too fast.\n",
            "Everything is going smoothly in the classes.\n",
            "The course material is very useful.\n",
            "Everything is going smoothly in the classes.\n",
            "The course material is very useful.\n",
            "The teachers are highly supportive.\n",
            "The lecture pace is too fast.\n",
            "Everything is going smoothly in the classes.\n",
            "The classes are very helpful and well-structured.\n",
            "The course material is very useful.\n",
            "The classes are very helpful and well-structured.\n",
            "The environment is decent.\n"
          ]
        }
      ]
    },
    {
      "cell_type": "code",
      "source": [
        "import matplotlib.pyplot as plt\n",
        "\n",
        "# Bar chart using lengths of the pos, neg, and neu lists\n",
        "sentiment_counts = {\n",
        "    \"Positive\": len(pos),\n",
        "    \"Negative\": len(neg),\n",
        "    \"Neutral\": len(neu)\n",
        "}\n",
        "\n",
        "plt.figure(figsize=(8, 5))\n",
        "plt.bar(sentiment_counts.keys(), sentiment_counts.values(), color=['yellow', 'red', 'gray'])\n",
        "plt.title(\"Sentiment Distribution of Student Reviews\")\n",
        "plt.xlabel(\"Sentiment\")\n",
        "plt.ylabel(\"Number of Reviews\")\n",
        "plt.grid(axis='y', linestyle='--', alpha=0.7)\n",
        "plt.tight_layout()\n",
        "plt.show()"
      ],
      "metadata": {
        "colab": {
          "base_uri": "https://localhost:8080/",
          "height": 507
        },
        "id": "Xr5lNOomuvsY",
        "outputId": "360ed2da-0bf9-4bcf-ed29-2f1d6c5f9e88"
      },
      "execution_count": null,
      "outputs": [
        {
          "output_type": "display_data",
          "data": {
            "text/plain": [
              "<Figure size 800x500 with 1 Axes>"
            ],
            "image/png": "[encoded data removed]"
          },
          "metadata": {}
        }
      ]
    },
    {
      "cell_type": "code",
      "source": [
        "\n",
        "# Prepare sentiment data\n",
        "labels = ['Positive', 'Negative', 'Neutral']\n",
        "sizes = [len(pos), len(neg), len(neu)]\n",
        "colors = ['green', 'red', 'gray']\n",
        "\n",
        "# it will Draw pie chart\n",
        "plt.figure(figsize=(6, 6))\n",
        "plt.pie(sizes, labels=labels, colors=colors, autopct='%1.1f%%', startangle=140)\n",
        "plt.title(\"Sentiment Distribution of Student Reviews\")\n",
        "plt.axis('equal')  # Makes the pie chart a circle\n",
        "plt.show()"
      ],
      "metadata": {
        "colab": {
          "base_uri": "https://localhost:8080/",
          "height": 526
        },
        "id": "m94D8b-Uvm1H",
        "outputId": "aea85715-d7e7-4dcb-85cf-dd4657ddb957"
      },
      "execution_count": null,
      "outputs": [
        {
          "output_type": "display_data",
          "data": {
            "text/plain": [
              "<Figure size 600x600 with 1 Axes>"
            ],
            "image/png": "[encoded data removed]"
          },
          "metadata": {}
        }
      ]
    },
    {
      "cell_type": "code",
      "source": [
        "# By usiing mean tells the average rating of the course\n",
        "avg = df[\"rating_out_of_10\"].mean()\n",
        "print(f\"The average rating of the course out of 10 is {avg}\")\n"
      ],
      "metadata": {
        "colab": {
          "base_uri": "https://localhost:8080/"
        },
        "id": "jQIIHRF02Lor",
        "outputId": "9b9fe990-ecff-473c-ceda-820300008957"
      },
      "execution_count": null,
      "outputs": [
        {
          "output_type": "stream",
          "name": "stdout",
          "text": [
            "The average rating of the course out of 10 is 5.565\n"
          ]
        }
      ]
    },
    {
      "cell_type": "markdown",
      "source": [
        "<h2> It tells count frequency of the rating <h2>"
      ],
      "metadata": {
        "id": "GFO-Gwnw5Df_"
      }
    },
    {
      "cell_type": "code",
      "source": [
        "# Count occurrences of each category\n",
        "value_counts = df['rating_out_of_10'].value_counts()\n",
        "\n",
        "# Plot bar chart\n",
        "plt.figure(figsize=(10, 6))\n",
        "plt.bar(value_counts.index, value_counts.values, color='skyblue')\n",
        "plt.xlabel('Categories')\n",
        "plt.ylabel('Count')\n",
        "plt.title('Frequency of Each Category in column_name')\n",
        "plt.xticks(rotation=45)  # Rotate x-labels if too long\n",
        "plt.tight_layout()\n",
        "plt.show()"
      ],
      "metadata": {
        "colab": {
          "base_uri": "https://localhost:8080/",
          "height": 607
        },
        "id": "Kq4rtgbywUWg",
        "outputId": "31664acd-9c55-43bf-92c9-e13661bd5802"
      },
      "execution_count": null,
      "outputs": [
        {
          "output_type": "display_data",
          "data": {
            "text/plain": [
              "<Figure size 1000x600 with 1 Axes>"
            ],
            "image/png": "[encoded data removed]"
          },
          "metadata": {}
        }
      ]
    },
    {
      "cell_type": "code",
      "source": [],
      "metadata": {
        "id": "ZtP2r1m7wVcl"
      },
      "execution_count": null,
      "outputs": []
    }
  ]
}